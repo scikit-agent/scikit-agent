{
  "cells": [
    {
      "cell_type": "code",
      "execution_count": null,
      "metadata": {
        "collapsed": false
      },
      "outputs": [],
      "source": [
        "%matplotlib inline"
      ]
    },
    {
      "cell_type": "markdown",
      "metadata": {},
      "source": [
        "\n# Resource Extraction Model\n\nThe resource extraction problem models the optimal management of a renewable\nor depletable resource (fishery, forest, mineral deposit, etc.).\nThe decision-maker must balance immediate profits from extraction against\npreserving the resource stock for future use. Under certain formulations with\nstochastic growth, this problem admits analytical or semi-analytical solutions\n\nThe model involves a growing resource with stochastic shocks, a controllable\nextraction rate, and reward function that combines revenue and extraction costs.\nThe planner agent must balance present profit with future resource availability.\n\n## Model Structure\n\n- **State Variable:** $x$: Resource stock level\n- **Control Variable:** $u$: Extraction rate (constrained between 0 and current stock $x$)\n\n**Dynamics**\n\nThe resource stock evolves as:\n\n .. math::\n\n    x_{t+1} = r(x_t - u_t) + \\epsilon_t\n\nwhere $r > 1$ is the growth rate and $\\epsilon_t$ is a random shock.\n\n**Reward:**\n\nSingle-period profit combines revenue and extraction costs:\n\n .. math::\n\n    \\mathrm{profit} = p \\cdot u - \\frac{c}{2} u^2\n\nThe linear revenue term $p \\cdot u$ represents market value, while the quadratic cost $\\frac{c}{2}u^2$ reflects increasing marginal extraction costs (it becomes harder and more expensive to extract at higher rates).\n\n**Parameters:**\n\n- $r$: Growth rate (e.g., 1.1 = 10% growth per period)\n- $p$: Price per unit extracted\n- $c$: Cost parameter (controls extraction cost curvature)\n- $\\gamma$ (`DiscFac`): Discount factor for future rewards\n- $\\sigma$: Standard deviation of random growth shocks\n"
      ]
    },
    {
      "cell_type": "code",
      "execution_count": null,
      "metadata": {
        "collapsed": false
      },
      "outputs": [],
      "source": [
        "import skagent as ska\nfrom skagent.distributions import Normal\nimport skagent.models.resource_extraction as rex"
      ]
    },
    {
      "cell_type": "markdown",
      "metadata": {},
      "source": [
        "### Model Inspection\n\nFirst, let's load the predefined model elements and inspect them.\n\n"
      ]
    },
    {
      "cell_type": "markdown",
      "metadata": {},
      "source": [
        "#### Step 1: Show Model Parameters\n\n"
      ]
    },
    {
      "cell_type": "code",
      "execution_count": null,
      "metadata": {
        "collapsed": false
      },
      "outputs": [],
      "source": [
        "print(\"Model Calibration:\")\nfor param, value in rex.calibration.items():\n    print(f\"  {param}: {value}\")"
      ]
    },
    {
      "cell_type": "markdown",
      "metadata": {},
      "source": [
        "#### Step 2: Inspect the Resource Extraction Model\n\n"
      ]
    },
    {
      "cell_type": "code",
      "execution_count": null,
      "metadata": {
        "collapsed": false
      },
      "outputs": [],
      "source": [
        "print(rex.resource_extraction_block)"
      ]
    },
    {
      "cell_type": "markdown",
      "metadata": {},
      "source": [
        "#### Step 3: Visualize the Resource Extraction Model\n\n"
      ]
    },
    {
      "cell_type": "code",
      "execution_count": null,
      "metadata": {
        "collapsed": false
      },
      "outputs": [],
      "source": [
        "# TODO: Visualizer code here."
      ]
    },
    {
      "cell_type": "markdown",
      "metadata": {},
      "source": [
        "#### Step 4: Load Optimal Decision Rule\n\nThis model has a closed-form optimal policy: the optimal extraction is **linear in the stock**:\n\n\\begin{align}u^* = \\alpha \\cdot x\\end{align}\n\nThe optimal extraction rate $\\alpha$ is determined by solving a system of two equations involving\nthe model parameters. A method for solving this system is provided as ``optimal_extraction_rule``.\n\nThis analytical solution makes the model ideal for validating other policy\nlearning algorithms\u2014we can compare learned policies against the known optimum.\n\n\n"
      ]
    },
    {
      "cell_type": "code",
      "execution_count": null,
      "metadata": {
        "collapsed": false
      },
      "outputs": [],
      "source": [
        "optimal_u = rex.optimal_extraction_rule(\n    r=rex.calibration[\"r\"],\n    p=rex.calibration[\"p\"],\n    c_param=rex.calibration[\"c_param\"],\n    DiscFac=rex.calibration[\"DiscFac\"],\n)\n\n\n# Wrap rules in the format expected by simulator\ndecision_rules = {\"u\": optimal_u}"
      ]
    },
    {
      "cell_type": "markdown",
      "metadata": {},
      "source": [
        "#### Step 5: Run Monte Carlo Simulation\n\n"
      ]
    },
    {
      "cell_type": "code",
      "execution_count": null,
      "metadata": {
        "collapsed": false
      },
      "outputs": [],
      "source": [
        "### TODO Construct shocks\n\n# Initial conditions (must be distributions, not scalar values)\ninitial_conditions = {\n    \"x\": Normal(mu=0.0, sigma=rex.calibration[\"sigma\"]),\n}\n\n# Create and run simulator\nsimulator = ska.MonteCarloSimulator(\n    calibration=rex.calibration,\n    block=rex.resource_extraction_block,\n    dr=decision_rules,\n    initial=initial_conditions,\n    agent_count=1000,  # Simulate 5000 agents\n    T_sim=100,  # For 100 periods\n    seed=42,  # For reproducibility\n)\n\nprint(\n    f\"\u2713 Created simulator with {simulator.agent_count} agents over {simulator.T_sim} periods\"\n)\n\n# Run the simulation\nprint(\"Running simulation...\")\nsimulator.initialize_sim()  # Initialize simulation variables\nsimulator.simulate()\n\nprint(\"\u2713 Simulation completed successfully\")"
      ]
    }
  ],
  "metadata": {
    "kernelspec": {
      "display_name": "Python 3",
      "language": "python",
      "name": "python3"
    },
    "language_info": {
      "codemirror_mode": {
        "name": "ipython",
        "version": 3
      },
      "file_extension": ".py",
      "mimetype": "text/x-python",
      "name": "python",
      "nbconvert_exporter": "python",
      "pygments_lexer": "ipython3",
      "version": "3.12.11"
    }
  },
  "nbformat": 4,
  "nbformat_minor": 0
}
