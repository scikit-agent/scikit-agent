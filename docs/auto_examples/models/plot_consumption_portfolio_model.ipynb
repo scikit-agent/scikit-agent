{
  "cells": [
    {
      "cell_type": "code",
      "execution_count": null,
      "metadata": {
        "collapsed": false
      },
      "outputs": [],
      "source": [
        "%matplotlib inline"
      ]
    },
    {
      "cell_type": "markdown",
      "metadata": {},
      "source": [
        "\n# Consumption-Portfolio Model\n\nThis example demonstrates how to build, solve, and simulate a consumption-portfolio\nchoice model using scikit-agent. The model includes:\n\n- Stochastic labor income\n- Portfolio choice between safe and risky assets\n- Consumption-saving decisions\n- Monte Carlo simulation and analysis\n\nThe model follows the approach of Merton (1969) and extends it with labor income risk.\n"
      ]
    },
    {
      "cell_type": "code",
      "execution_count": null,
      "metadata": {
        "collapsed": false
      },
      "outputs": [],
      "source": [
        "import numpy as np\nimport skagent as ska\nfrom skagent.distributions import Lognormal, MeanOneLogNormal, DiscreteDistribution"
      ]
    },
    {
      "cell_type": "markdown",
      "metadata": {},
      "source": [
        "## Model Setup\n\nFirst, let's define the economic environment. We'll create a model where agents:\n1. Receive risky labor income\n2. Choose consumption each period\n3. Allocate savings between safe and risky assets\n4. Maximize expected utility over their lifetime\n\n"
      ]
    },
    {
      "cell_type": "code",
      "execution_count": null,
      "metadata": {
        "collapsed": false
      },
      "outputs": [],
      "source": [
        "print(\"=== Consumption-Portfolio Model with scikit-agent ===\\n\")"
      ]
    },
    {
      "cell_type": "markdown",
      "metadata": {},
      "source": [
        "### Step 1: Define Model Parameters\n\n"
      ]
    },
    {
      "cell_type": "code",
      "execution_count": null,
      "metadata": {
        "collapsed": false
      },
      "outputs": [],
      "source": [
        "calibration = {\n    # Preferences\n    \"CRRA\": 2.0,  # Coefficient of relative risk aversion\n    \"DiscFac\": 0.96,  # Discount factor\n    # Asset returns\n    \"Rfree\": 1.03,  # Risk-free rate (3% annually)\n    \"EqP\": 0.06,  # Equity premium (6% annually)\n    \"RiskyStd\": 0.20,  # Stock return volatility (20%)\n    # Income process\n    \"PermGroFac\": 1.01,  # Permanent income growth (1%)\n    \"TranShkStd\": 0.15,  # Transitory income shock volatility\n    \"PermShkStd\": 0.05,  # Permanent income shock volatility\n    # Initial conditions\n    \"init_wealth\": 1.0,  # Initial financial wealth\n    \"init_perm\": 1.0,  # Initial permanent income\n}\n\nprint(\"Model Calibration:\")\nfor param, value in calibration.items():\n    print(f\"  {param}: {value}\")"
      ]
    },
    {
      "cell_type": "markdown",
      "metadata": {},
      "source": [
        "### Step 2: Build the Economic Model\n\nWe'll create a DBlock that represents one period of the model\n\n"
      ]
    },
    {
      "cell_type": "code",
      "execution_count": null,
      "metadata": {
        "collapsed": false
      },
      "outputs": [],
      "source": [
        "# Define stochastic shocks\nshocks = {\n    \"theta\": (MeanOneLogNormal, {\"sigma\": \"TranShkStd\"}),  # Transitory income shock\n    \"psi\": (MeanOneLogNormal, {\"sigma\": \"PermShkStd\"}),  # Permanent income shock\n    \"risky_return\": (\n        Lognormal,\n        {\"mean\": \"1 + Rfree + EqP\", \"std\": \"RiskyStd\"},\n    ),  # Risky asset return\n}\n\n# Define model dynamics (state transitions)\ndynamics = {\n    # === Income Process ===\n    \"y\": lambda p, theta: p * theta,  # Labor income this period\n    \"p\": lambda p, psi, PermGroFac: p * psi * PermGroFac,  # Permanent income evolution\n    # === Portfolio Returns ===\n    \"R_portfolio\": lambda alpha, Rfree, risky_return: (  # Portfolio return\n        Rfree + alpha * (risky_return - Rfree)\n    ),\n    # === Budget Constraint ===\n    \"b\": lambda a, R_portfolio: a * R_portfolio,  # Beginning-of-period wealth\n    \"m\": lambda b, y: b + y,  # Market resources\n    # === Decision Variables (Controls) ===\n    \"c\": ska.Control([\"m\"], upper_bound=lambda m: 0.99 * m),  # Consumption choice\n    \"alpha\": ska.Control(\n        [\"a\"], lower_bound=0.0, upper_bound=1.0\n    ),  # Portfolio share in risky asset\n    # === End-of-Period States ===\n    \"a\": lambda m, c: m - c,  # Assets saved\n    # === Utility ===\n    \"u\": lambda c, CRRA: c ** (1 - CRRA) / (1 - CRRA),  # CRRA utility function\n}\n\n# Create the model block\nconsumption_portfolio_block = ska.DBlock(\n    name=\"consumption_portfolio\",\n    shocks=shocks,\n    dynamics=dynamics,\n    reward={\"u\": lambda u: u},  # Household maximizes utility\n)\n\nprint(f\"\\n\u2713 Created model block with {len(dynamics)} state variables\")\nprint(f\"\u2713 Control variables: {consumption_portfolio_block.get_controls()}\")\nprint(f\"\u2713 Shock variables: {list(shocks.keys())}\")"
      ]
    },
    {
      "cell_type": "markdown",
      "metadata": {},
      "source": [
        "### Step 3: Construct Distributions\n\n"
      ]
    },
    {
      "cell_type": "code",
      "execution_count": null,
      "metadata": {
        "collapsed": false
      },
      "outputs": [],
      "source": [
        "consumption_portfolio_block.construct_shocks(calibration)\nprint(\"\u2713 Constructed shock distributions from calibration\")\n\n# Examine the constructed distributions\nprint(\"\\nShock Distributions:\")\nfor shock_name, dist in consumption_portfolio_block.shocks.items():\n    print(f\"  {shock_name}: {type(dist).__name__}\")"
      ]
    },
    {
      "cell_type": "markdown",
      "metadata": {},
      "source": [
        "### Step 4: Define Simple Decision Rules\n\nFor this example, we'll use simple rules rather than solving the full optimization.\nIn practice, you would use scikit-agent's solution algorithms.\n\n"
      ]
    },
    {
      "cell_type": "code",
      "execution_count": null,
      "metadata": {
        "collapsed": false
      },
      "outputs": [],
      "source": [
        "def consumption_rule(m, p):\n    \"\"\"Simple consumption rule: consume a fraction of market resources\"\"\"\n    # More consumption when resources are high relative to permanent income\n    mpc = 0.1 + 0.05 * np.minimum(m / p, 5.0)  # MPC between 10-35%\n    return mpc * m\n\n\ndef portfolio_rule(a, p):\n    \"\"\"Simple portfolio rule: invest more in stocks when wealth is high\"\"\"\n    # Handle array inputs for all agents\n    risky_share = np.where(\n        a <= 0, 0.0, np.minimum(0.8, 0.3 + 0.1 * (a / p))\n    )  # 30-80% in stocks\n    return risky_share\n\n\n# Wrap rules in the format expected by simulator\ndecision_rules = {\"c\": consumption_rule, \"alpha\": portfolio_rule}\n\nprint(\"\u2713 Defined behavioral decision rules\")"
      ]
    },
    {
      "cell_type": "markdown",
      "metadata": {},
      "source": [
        "### Step 5: Run Monte Carlo Simulation\n\n"
      ]
    },
    {
      "cell_type": "code",
      "execution_count": null,
      "metadata": {
        "collapsed": false
      },
      "outputs": [],
      "source": [
        "# Initial conditions (must be distributions, not scalar values)\n# Use the tracked variable names 'a' and 'p', not 'a_prev' and 'p_prev'\ninitial_conditions = {\n    \"a\": DiscreteDistribution(\n        [calibration[\"init_wealth\"]], [1.0]\n    ),  # Start with some wealth\n    \"p\": DiscreteDistribution(\n        [calibration[\"init_perm\"]], [1.0]\n    ),  # Initial permanent income\n}\n\n# Create and run simulator\nsimulator = ska.MonteCarloSimulator(\n    calibration=calibration,\n    block=consumption_portfolio_block,\n    dr=decision_rules,\n    initial=initial_conditions,\n    agent_count=5000,  # Simulate 5000 agents\n    T_sim=100,  # For 100 periods\n    seed=42,  # For reproducibility\n)\n\nprint(\n    f\"\u2713 Created simulator with {simulator.agent_count} agents over {simulator.T_sim} periods\"\n)\n\n# Run the simulation\nprint(\"Running simulation...\")\nsimulator.initialize_sim()  # Initialize simulation variables\n\nprint(\"WILL FIX THIS AFTER BENCHMARKS ARE SETTLED\")\n# simulator.simulate()\n\n# print(\"\u2713 Simulation completed successfully\")"
      ]
    },
    {
      "cell_type": "markdown",
      "metadata": {},
      "source": [
        "### Step 6: Analyze and Visualize Results\n\n"
      ]
    },
    {
      "cell_type": "code",
      "execution_count": null,
      "metadata": {
        "collapsed": false
      },
      "outputs": [],
      "source": [
        "# Extract simulation history\n# history = simulator.history\n# print(f\"\\nSimulation generated data for variables: {list(history.keys())}\")\n\n\n# Convert to numpy arrays for analysis\n# def extract_var(var_name):\n#    \"\"Extract a variable from simulation history as numpy array\"\"\n#    if var_name in history:\n#        return np.array(history[var_name])\n#    else:\n#        return None\n\n\n# Extract key variables\n# consumption = extract_var(\"c\")\n# assets = extract_var(\"a\")\n# income = extract_var(\"y\")\n# portfolio_share = extract_var(\"alpha\")\n# market_resources = extract_var(\"m\")\n\n# if consumption is not None and assets is not None:\n#    print(f\"Data shapes: consumption {consumption.shape}, assets {assets.shape}\")\n# else:\n#    print(\"Warning: Some variables were not found in simulation history\")"
      ]
    },
    {
      "cell_type": "markdown",
      "metadata": {},
      "source": [
        "Create comprehensive plots\n\n"
      ]
    },
    {
      "cell_type": "code",
      "execution_count": null,
      "metadata": {
        "collapsed": false
      },
      "outputs": [],
      "source": [
        "# fig, axes = plt.subplots(2, 3, figsize=(15, 10))\n# fig.suptitle(\"Consumption-Portfolio Model: Simulation Results\", fontsize=16)\n\n# Plot 1: Average consumption over time\n# if consumption is not None:\n#    mean_consumption = np.mean(consumption, axis=1)\n#    std_consumption = np.std(consumption, axis=1)\n\n#    axes[0, 0].plot(mean_consumption, \"b-\", linewidth=2, label=\"Mean\")\n#    axes[0, 0].fill_between(\n#        range(len(mean_consumption)),\n#        mean_consumption - std_consumption,\n#        mean_consumption + std_consumption,\n#        alpha=0.3,\n#        label=\"\u00b11 Std Dev\",\n#    )\n#    axes[0, 0].set_title(\"Consumption Over Time\")\n#    axes[0, 0].set_xlabel(\"Period\")\n#    axes[0, 0].set_ylabel(\"Consumption\")\n#    axes[0, 0].legend()\n#    axes[0, 0].grid(True, alpha=0.3)\n\n# Plot 2: Asset accumulation\n# if assets is not None:\n#    mean_assets = np.mean(assets, axis=1)\n#    percentiles = np.percentile(assets, [25, 75], axis=1)\n\n#    axes[0, 1].plot(mean_assets, \"g-\", linewidth=2, label=\"Mean\")\n#    axes[0, 1].fill_between(\n#        range(len(mean_assets)),\n#        percentiles[0],\n#        percentiles[1],\n#        alpha=0.3,\n#        label=\"25th-75th percentile\",\n#    )\n#    axes[0, 1].set_title(\"Asset Accumulation\")\n#    axes[0, 1].set_xlabel(\"Period\")\n#    axes[0, 1].set_ylabel(\"Assets\")\n#    axes[0, 1].legend()\n#    axes[0, 1].grid(True, alpha=0.3)\n\n# Plot 3: Portfolio allocation\n# if portfolio_share is not None:\n#    mean_alpha = np.mean(portfolio_share, axis=1)\n#    axes[0, 2].plot(mean_alpha, \"r-\", linewidth=2)\n#    axes[0, 2].set_title(\"Average Risky Asset Share\")\n#    axes[0, 2].set_xlabel(\"Period\")\n#    axes[0, 2].set_ylabel(\"Share in Risky Asset\")\n#    axes[0, 2].set_ylim(0, 1)\n#    axes[0, 2].grid(True, alpha=0.3)\n\n# Plot 4: Income distribution evolution\n# if income is not None:\n#    # Show income distribution at different time periods\n#    periods_to_show = [0, 25, 50, 75, 99]\n#    colors = [\"blue\", \"green\", \"orange\", \"red\", \"purple\"]\n#\n#   for i, period in enumerate(periods_to_show):\n#       if period < income.shape[0]:\n#          axes[1, 0].hist(\n#               income[period],\n#               bins=30,\n#               alpha=0.6,\n#              color=colors[i],\n#               label=f\"Period {period}\",\n#               density=True,\n#           )\n\n#   axes[1, 0].set_title(\"Income Distribution Evolution\")\n#   axes[1, 0].set_xlabel(\"Income\")\n#   axes[1, 0].set_ylabel(\"Density\")\n#   axes[1, 0].legend()\n#   axes[1, 0].grid(True, alpha=0.3)\n\n# Plot 5: Wealth distribution\n# f assets is not None:\n#   final_wealth = assets[-1]  # Final period wealth\n#   # Filter out NaN values\n#   final_wealth_clean = final_wealth[~np.isnan(final_wealth)]\n#\n#   if len(final_wealth_clean) > 0:\n#      axes[1, 1].hist(\n#           final_wealth_clean, bins=50, alpha=0.7, color=\"gold\", edgecolor=\"black\"\n#       )\n#       axes[1, 1].axvline(\n#          np.mean(final_wealth_clean),\n#           color=\"red\",\n#           linestyle=\"--\",\n#           linewidth=2,\n#           label=f\"Mean: {np.mean(final_wealth_clean):.2f}\",\n#       )\n#      axes[1, 1].axvline(\n#           np.median(final_wealth_clean),\n#           color=\"blue\",\n#           linestyle=\"--\",\n#           linewidth=2,\n#           label=f\"Median: {np.median(final_wealth_clean):.2f}\",\n#       )\n#   else:\n#       axes[1, 1].text(\n#           0.5, 0.5, \"No valid data\", transform=axes[1, 1].transAxes, ha=\"center\"\n#       )\n#   axes[1, 1].set_title(\"Final Wealth Distribution\")\n#   axes[1, 1].set_xlabel(\"Wealth\")\n#   axes[1, 1].set_ylabel(\"Frequency\")\n#   axes[1, 1].legend()\n#   axes[1, 1].grid(True, alpha=0.3)\n\n# Plot 6: Consumption vs Income relationship\n# f consumption is not None and income is not None:\n#   # Take final period data\n#   final_c = consumption[-1]\n#   final_y = income[-1]\n\n#    axes[1, 2].scatter(final_y, final_c, alpha=0.5, s=10)\n\n#    # Add regression line\n#    coeffs = np.polyfit(final_y, final_c, 1)\n#    line = np.poly1d(coeffs)\n#    x_line = np.linspace(final_y.min(), final_y.max(), 100)\n#    axes[1, 2].plot(\n#        x_line, line(x_line), \"r--\", linewidth=2, label=f\"Slope: {coeffs[0]:.3f}\"\n#    )\n\n#    axes[1, 2].set_title(\"Consumption vs Income (Final Period)\")\n#    axes[1, 2].set_xlabel(\"Income\")\n#    axes[1, 2].set_ylabel(\"Consumption\")\n#    axes[1, 2].legend()\n#    axes[1, 2].grid(True, alpha=0.3)\n\n# plt.tight_layout()\n# plt.show()"
      ]
    },
    {
      "cell_type": "markdown",
      "metadata": {},
      "source": [
        "### Summary Statistics\n\n"
      ]
    },
    {
      "cell_type": "code",
      "execution_count": null,
      "metadata": {
        "collapsed": false
      },
      "outputs": [],
      "source": [
        "# print(\"\\n\" + \"=\" * 50)\n# print(\"SIMULATION SUMMARY STATISTICS\")\n# print(\"=\" * 50)\n\n# if consumption is not None:\n#    print(f\"Average final consumption: {np.mean(consumption[-1]):.3f}\")\n#    print(\n#        f\"Consumption growth rate: {(np.mean(consumption[-1]) / np.mean(consumption[0]) - 1) * 100:.1f}%\"\n#    )\n\n# if assets is not None:\n#    print(f\"Average final assets: {np.mean(assets[-1]):.3f}\")\n#    print(f\"Fraction with negative assets: {np.mean(assets[-1] < 0) * 100:.1f}%\")\n\n# if portfolio_share is not None:\n#    print(f\"Average risky asset share: {np.mean(portfolio_share):.3f}\")\n\n# if income is not None:\n#    print(f\"Average final income: {np.mean(income[-1]):.3f}\")\n#    print(f\"Income volatility (CV): {np.std(income[-1]) / np.mean(income[-1]):.3f}\")"
      ]
    },
    {
      "cell_type": "markdown",
      "metadata": {},
      "source": [
        "### Model Insights\n\n"
      ]
    },
    {
      "cell_type": "code",
      "execution_count": null,
      "metadata": {
        "collapsed": false
      },
      "outputs": [],
      "source": [
        "# print(\"\\n\" + \"=\" * 50)\n# print(\"MODEL INSIGHTS\")\n# print(\"=\" * 50)\n\n# print(\n#    \"\"\n# This consumption-portfolio model demonstrates several key economic principles:\n#\n# 1. **Consumption Smoothing**: Agents smooth consumption relative to volatile income\n#   through saving and borrowing.\n\n# 2. **Portfolio Choice**: The risky asset allocation varies with wealth levels,\n#   showing how risk-taking depends on financial resources.\n\n# 3. **Precautionary Saving**: Agents accumulate assets as a buffer against\n#   income uncertainty.\n\n# 4. **Life-Cycle Patterns**: The simulation shows realistic wealth accumulation\n#   patterns over the agent lifecycle.\n\n# The scikit-agent framework makes it easy to:\n# - Define complex economic models using intuitive building blocks\n# - Run large-scale Monte Carlo simulations\n# - Analyze results with rich data structures\n# - Extend models with additional features\n\n# Next steps could include:\n# - Solving for optimal policies using value function iteration\n# - Adding more realistic features (retirement, health shocks, etc.)\n# - Calibrating to match empirical moments\n# - Comparing different behavioral rules\n# \"\"\n# )"
      ]
    },
    {
      "cell_type": "markdown",
      "metadata": {},
      "source": [
        "### Note on Solution Methods\n\n"
      ]
    },
    {
      "cell_type": "code",
      "execution_count": null,
      "metadata": {
        "collapsed": false
      },
      "outputs": [],
      "source": [
        "# print(\"\\n\" + \"=\" * 50)\n# print(\"ABOUT SOLUTION METHODS\")\n# print(\"=\" * 50)\n\n# print(\n#    \"\"\n# This example used simple behavioral rules for illustration.\n# For rigorous analysis, you would solve for optimal policies using:\n\n# 1. **Value Function Iteration** (ska.algos.vbi):\n#   - Backward induction on Bellman equation\n#   - Guaranteed convergence for well-posed problems\n#   - Good for models with moderate state dimensions#\n\n# 2. **Neural Network Methods** (ska.ann):\n#   - Deep learning approaches for high-dimensional problems\n#   - Can handle complex, non-linear policies\n#   - Suitable for large-scale heterogeneous agent models\n\n# 3. **Policy Iteration Methods**:\n#   - Alternate between policy evaluation and improvement\n#   - Often faster convergence than value function iteration\n\n# See the algorithms documentation for detailed examples of solving models optimally.\n# \"\"\n# )\n\n# print(\"\\n\u2713 Example completed successfully!\")\n# \"\"\""
      ]
    }
  ],
  "metadata": {
    "kernelspec": {
      "display_name": "Python 3",
      "language": "python",
      "name": "python3"
    },
    "language_info": {
      "codemirror_mode": {
        "name": "ipython",
        "version": 3
      },
      "file_extension": ".py",
      "mimetype": "text/x-python",
      "name": "python",
      "nbconvert_exporter": "python",
      "pygments_lexer": "ipython3",
      "version": "3.12.11"
    }
  },
  "nbformat": 4,
  "nbformat_minor": 0
}
